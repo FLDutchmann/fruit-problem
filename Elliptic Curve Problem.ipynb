{
 "cells": [
  {
   "cell_type": "markdown",
   "metadata": {},
   "source": [
    "The purpose of this notebook is to solve the following problem, with the hint that (4,-1,11) is an invalid integer solution:\n",
    "\n",
    "\n",
    "![fruit](fruit_problem.webp)\n",
    "\n"
   ]
  },
  {
   "cell_type": "markdown",
   "metadata": {},
   "source": [
    "\n"
   ]
  },
  {
   "cell_type": "code",
   "execution_count": 1,
   "metadata": {},
   "outputs": [
    {
     "name": "stdout",
     "output_type": "stream",
     "text": [
      "Equation to solve: a^3 - 3*a^2*b - 3*a*b^2 + b^3 - 3*a^2*c - 5*a*b*c - 3*b^2*c - 3*a*c^2 - 3*b*c^2 + c^3 = 0\n",
      "With known integer point (4, -1, 11)\n",
      "This problem is birationally equivalent to -91/216*X^3 - 95/144*X^2 + Y^2 + 1/12*X - 1/432 = 0\n"
     ]
    }
   ],
   "source": [
    "R.<a,b,c> = QQ[]\n",
    "\n",
    "orig_pt = (4,-1,11)\n",
    "f = a*(a+c)*(a+b) + b*(b+c)*(a+b) + c*(b+c)*(a+c) - 4*(a+b)*(a+c)*(b+c)\n",
    "print(\"Equation to solve:\", f, \"= 0\")\n",
    "print(\"With known integer point\", orig_pt)\n",
    "\n",
    "#Birationally convert f to an elliptic curve in Weierstrass form\n",
    "R.<u,v,w> = QQ[]\n",
    "\n",
    "g=f(u+v,-v,w)\n",
    "\n",
    "R.<x,y,z> = QQ[]\n",
    "\n",
    "h = g(z,y-z*1/2,-x)\n",
    "r = h(x, y, (z-x)/6)\n",
    "\n",
    "# X = -c\n",
    "# Y = (a-b)/2\n",
    "# Z = 6a+6b-c\n",
    "\n",
    "# a = -1/12X + Y + 1/12Z\n",
    "# b = -1/12X - Y + 1/12Z\n",
    "# c = -X\n",
    "S.<X,Y> = QQ[]\n",
    "s = r(X,Y,1)\n",
    "\n",
    "print(\"This problem is birationally equivalent to\", s, \"= 0\")"
   ]
  },
  {
   "cell_type": "code",
   "execution_count": 2,
   "metadata": {},
   "outputs": [],
   "source": [
    "# Define the equivalence explicitly\n",
    "\n",
    "def to_new (a, b, c):\n",
    "    z = 6*a+6*b-c\n",
    "    return (-c/z,(a-b)/(2*z))\n",
    "\n",
    "def to_orig (x, y):\n",
    "    a = -x/12 + y + 1/12\n",
    "    b = -x/12 - y + 1/12\n",
    "    c = -x\n",
    "    d = lcm(lcm(a.denominator(), b.denominator()), c.denominator())\n",
    "    if(a < 0):\n",
    "        d *= -1\n",
    "    return (a*d, b*d, c*d)"
   ]
  },
  {
   "cell_type": "code",
   "execution_count": 3,
   "metadata": {},
   "outputs": [],
   "source": [
    "# f(x,y)=y^2+ax^3+bx^2+cx+d\n",
    "# is a rational nonsingular elliptic curve\n",
    "# Compute p+q\n",
    "# None is used as the point at infinity\n",
    "def third_pt (f, p,q):\n",
    "    if q == None:\n",
    "        return p\n",
    "    if p == None: \n",
    "        return q\n",
    "    \n",
    "    #y=ax+b\n",
    "    a=0\n",
    "    b=0\n",
    "    R.<x,y> = QQ[]\n",
    "    f = f(x,y)\n",
    "    if q[0] == p[0]:\n",
    "        if p[1] != q[1]:\n",
    "            return None\n",
    "        #p=q, find tangent line\n",
    "        fx = f.derivative(x)(p[0],p[1])\n",
    "        fy = f.derivative(y)(p[0],p[1])\n",
    "        \n",
    "        a = -fx/fy\n",
    "        b = (fx*p[0]+fy*p[1])/fy\n",
    "    else:\n",
    "        a = (q[1]-p[1])/(q[0]-p[0])\n",
    "        b = p[1]-a*p[0]\n",
    "    \n",
    "    S.<t> = QQ[]\n",
    "    h = f(t,a*t+b)\n",
    "    lead = h.lc()\n",
    "    snd = h.monomial_coefficient(t^2)\n",
    "    x = -snd/lead - p[0] - q[0]\n",
    "    y = a*x+b\n",
    "    return (x,-y)"
   ]
  },
  {
   "cell_type": "code",
   "execution_count": 5,
   "metadata": {},
   "outputs": [
    {
     "name": "stdout",
     "output_type": "stream",
     "text": [
      "Solution Found!\n",
      "(154476802108746166441951315019919837485664325669565431700026634898253202035277999, 36875131794129999827197811565225474825492979968971970996283137471637224634055579, 4373612677928697257861252602371390152816537558161613618621437993378423467772036)\n",
      "Found through the following chain:\n",
      "[None, (-11/7, 5/14), (1033/175, -18283/1750), (-2026741/2162342, 37680705/67341508), (69295307953/58496915575, -13227649274463287/10694991074577250), (-40958480975543891/106344534059483167, 8623324751903522349321775/26215233769229919237757094), (314504129718361144991521/802337759501163701306400, -26443434904679357368074637099568813/85172358650336633704021584768576000), (-128131170448868594051599857623171/1143454311979347891037421576622127, 4065195217259461183342765346158535429612565426185/29228679860033230807132710756638779772461972946774), (1745576369976748612001103416037960248713633/10235246577682451732591250786208230357147175, -2397476007234834283977169106155833265367106603076663189507631567/24753034107169414880751995592865198185663553031451231226498256750), (-9405501114660716625534518421595417184664937929417781/2459620853274364509196905245990535690190049196074059622, 4200059654093434521955482266239084380720405203592623596562267765236284907186515/81695570767094878596930964779178605979580521162361628754231228301854581182016388)]\n"
     ]
    }
   ],
   "source": [
    "# We're given a rational point on the curve\n",
    "orig_pt = (4,-1,11)\n",
    "rat_pt = to_new(*orig_pt)\n",
    "assert s(*rat_pt) == 0\n",
    "\n",
    "# Starting with the point at infinity, keep generating new points until we find a valid solution\n",
    "points = [None]\n",
    "pos_point = None\n",
    "\n",
    "def pos_sol(p):\n",
    "    return p[0] > 0 and p[1] > 0 and p[2] > 0\n",
    "\n",
    "# We check multiples of the known rational point and check if they correspond to an integer solution\n",
    "for i in range(16):\n",
    "    p = third_pt(s, points[i], rat_pt)\n",
    "    # p = i * rat_pt\n",
    "    points.append(p)\n",
    "    p_orig = to_orig(*p)\n",
    "    if(pos_sol(p_orig)):\n",
    "        pos_point = p_orig\n",
    "        print(\"Solution Found!\")\n",
    "        print(pos_point)\n",
    "        break\n",
    "        \n",
    "assert f(*pos_point) == 0\n",
    "print(\"Found through the following chain:\")\n",
    "print(points)"
   ]
  },
  {
   "cell_type": "code",
   "execution_count": null,
   "metadata": {},
   "outputs": [],
   "source": []
  },
  {
   "cell_type": "code",
   "execution_count": null,
   "metadata": {},
   "outputs": [],
   "source": []
  }
 ],
 "metadata": {
  "kernelspec": {
   "display_name": "SageMath 9.3",
   "language": "sage",
   "name": "sagemath"
  }
 },
 "nbformat": 4,
 "nbformat_minor": 4
}
